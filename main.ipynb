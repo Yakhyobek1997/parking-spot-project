{
 "cells": [
  {
   "cell_type": "code",
   "execution_count": 5,
   "metadata": {},
   "outputs": [],
   "source": [
    "import cv2\n",
    "import numpy as np\n",
    "from util import get_parking_spots_bboxes,empty_or_not"
   ]
  },
  {
   "cell_type": "code",
   "execution_count": 6,
   "metadata": {},
   "outputs": [],
   "source": [
    "def calc_diff(im1, im2):\n",
    "    \"\"\"\n",
    "    두 이미지 간의 차이를 계산합니다.\n",
    "    \n",
    "    인수:\n",
    "        im1: 첫 번째 이미지\n",
    "        im2: 두 번째 이미지\n",
    "\n",
    "    반환값:\n",
    "        두 이미지의 평균 차이\n",
    "    \"\"\"\n",
    "    return np.abs(np.mean(im1) - np.mean(im2))"
   ]
  },
  {
   "cell_type": "code",
   "execution_count": 7,
   "metadata": {},
   "outputs": [],
   "source": [
    "mask = 'mask_1920_1080.png'\n",
    "video_path = 'parking_1920_1080_loop.mp4'"
   ]
  },
  {
   "cell_type": "code",
   "execution_count": 8,
   "metadata": {},
   "outputs": [],
   "source": [
    "mask = cv2.imread(mask,0) #마스크 이미지를 그레이스케일로 읽는다"
   ]
  },
  {
   "cell_type": "code",
   "execution_count": 9,
   "metadata": {},
   "outputs": [],
   "source": [
    "cap = cv2.VideoCapture(video_path) #비디오 파일을 열고 읽는다"
   ]
  },
  {
   "cell_type": "code",
   "execution_count": 10,
   "metadata": {},
   "outputs": [],
   "source": [
    "connected_components = cv2.connectedComponentsWithStats(mask, 4, cv2.CV_32S) #마스크 이미지에서 연결된 컴포넌트를 분석한다"
   ]
  },
  {
   "cell_type": "code",
   "execution_count": 11,
   "metadata": {},
   "outputs": [],
   "source": [
    "spots = get_parking_spots_bboxes(connected_components) #주차 공간 상태와 차이 리스트를 초기화한다"
   ]
  },
  {
   "cell_type": "code",
   "execution_count": 12,
   "metadata": {},
   "outputs": [],
   "source": [
    "# 주차 공간 상태와 차이 리스트를 초기화합니다\n",
    "spots_status = [None for j in spots]\n",
    "diffs = [None for j in spots]\n",
    "\n",
    "previous_frame = None\n",
    "\n",
    "frame_nmr = 0\n",
    "ret = True\n",
    "step = 30"
   ]
  },
  {
   "cell_type": "code",
   "execution_count": null,
   "metadata": {},
   "outputs": [],
   "source": [
    "while ret:\n",
    "    #비디오에서 프레임을 읽준다\n",
    "    ret, frame = cap.read()\n",
    "\n",
    "    #설정된 단계마다 프레임을 처리한다\n",
    "    if frame_nmr % step == 0 and previous_frame is not None:\n",
    "        for spot_indx, spot in enumerate(spots):\n",
    "            x1, y1, w, h = spot\n",
    "\n",
    "            #현재 프레임에서 주차 공간을 잘라낸다\n",
    "            spot_crop = frame[y1:y1 + h, x1:x1 + w, :]\n",
    "\n",
    "            #이전 프레임과의 차이를 계산한다\n",
    "            diffs[spot_indx] = calc_diff(spot_crop, previous_frame[y1:y1 + h, x1:x1 + w, :])\n",
    "\n",
    "        #차이 리스트를 출력합니다.\n",
    "        print([diffs[j] for j in np.argsort(diffs)][::-1])\n",
    "\n",
    "    #설정된 단계마다 주차 공간의 상태를 업데이트한다\n",
    "    if frame_nmr % step == 0:\n",
    "        if previous_frame is None:\n",
    "            arr_ = range(len(spots))\n",
    "        else:\n",
    "            arr_ = [j for j in np.argsort(diffs) if diffs[j] / np.amax(diffs) > 0.4]\n",
    "        for spot_indx in arr_:\n",
    "            spot = spots[spot_indx]\n",
    "            x1, y1, w, h = spot\n",
    "\n",
    "            #현재 프레임에서 주차 공간을 잘라낸다\n",
    "            spot_crop = frame[y1:y1 + h, x1:x1 + w, :]\n",
    "            spot_status = empty_or_not(spot_crop)\n",
    "            spots_status[spot_indx] = spot_status\n",
    "\n",
    "    #설정된 단계마다 이전 프레임을 업데이트\n",
    "    if frame_nmr % step == 0:\n",
    "        previous_frame = frame.copy()\n",
    "\n",
    "    #프레임에 주차 공간의 경계를 표시\n",
    "    for spot_indx, spot in enumerate(spots):\n",
    "        spot_status = spots_status[spot_indx]\n",
    "        x1, y1, w, h = spots[spot_indx]\n",
    "\n",
    "        if spot_status:\n",
    "            #주차 공간이 비어있으면 녹색으로 표시\n",
    "            frame = cv2.rectangle(frame, (x1, y1), (x1 + w, y1 + h), (0, 255, 0), 2)\n",
    "        else:\n",
    "            # 주차 공간이 가득 차면 빨간색으로 표시\n",
    "            frame = cv2.rectangle(frame, (x1, y1), (x1 + w, y1 + h), (0, 0, 255), 2)\n",
    "\n",
    "    #화면에 주차 공간의 개수를 표시\n",
    "    cv2.rectangle(frame, (80, 20), (550, 80), (0, 0, 0), -1)\n",
    "    cv2.putText(frame, 'Available spots: {} / {}'.format(str(sum(spots_status)), str(len(spots_status))), (100, 60),\n",
    "                cv2.FONT_HERSHEY_SIMPLEX, 1, (255, 255, 255), 2)\n",
    "\n",
    "    #프레임을 표시\n",
    "    cv2.namedWindow('frame', cv2.WINDOW_NORMAL)\n",
    "    cv2.imshow('frame', frame)\n",
    "    if cv2.waitKey(25) & 0xFF == ord('q'):\n",
    "        break\n",
    "\n",
    "    frame_nmr += 1\n",
    "\n",
    "\n",
    "cap.release()\n",
    "cv2.destroyAllWindows()"
   ]
  }
 ],
 "metadata": {
  "kernelspec": {
   "display_name": "Python 3",
   "language": "python",
   "name": "python3"
  },
  "language_info": {
   "codemirror_mode": {
    "name": "ipython",
    "version": 3
   },
   "file_extension": ".py",
   "mimetype": "text/x-python",
   "name": "python",
   "nbconvert_exporter": "python",
   "pygments_lexer": "ipython3",
   "version": "3.12.4"
  }
 },
 "nbformat": 4,
 "nbformat_minor": 2
}
